{
 "cells": [
  {
   "cell_type": "code",
   "execution_count": 13,
   "id": "2d5a8ebf-66b0-4278-91ec-caf39594409d",
   "metadata": {},
   "outputs": [
    {
     "ename": "ModuleNotFoundError",
     "evalue": "No module named 'librosa'",
     "output_type": "error",
     "traceback": [
      "\u001b[1;31m---------------------------------------------------------------------------\u001b[0m",
      "\u001b[1;31mModuleNotFoundError\u001b[0m                       Traceback (most recent call last)",
      "Cell \u001b[1;32mIn[13], line 3\u001b[0m\n\u001b[0;32m      1\u001b[0m \u001b[38;5;28;01mimport\u001b[39;00m \u001b[38;5;21;01mnumpy\u001b[39;00m \u001b[38;5;28;01mas\u001b[39;00m \u001b[38;5;21;01mnp\u001b[39;00m\n\u001b[0;32m      2\u001b[0m \u001b[38;5;28;01mimport\u001b[39;00m \u001b[38;5;21;01mmatplotlib\u001b[39;00m\u001b[38;5;21;01m.\u001b[39;00m\u001b[38;5;21;01mpyplot\u001b[39;00m \u001b[38;5;28;01mas\u001b[39;00m \u001b[38;5;21;01mplt\u001b[39;00m\n\u001b[1;32m----> 3\u001b[0m \u001b[38;5;28;01mimport\u001b[39;00m \u001b[38;5;21;01mlibrosa\u001b[39;00m\n\u001b[0;32m      4\u001b[0m \u001b[38;5;28;01mfrom\u001b[39;00m \u001b[38;5;21;01mtyping\u001b[39;00m \u001b[38;5;28;01mimport\u001b[39;00m Callable, Tuple\n",
      "\u001b[1;31mModuleNotFoundError\u001b[0m: No module named 'librosa'"
     ]
    }
   ],
   "source": [
    "import numpy as np\n",
    "import matplotlib.pyplot as plt\n",
    "import librosa\n",
    "from typing import Callable, Tuple\n"
   ]
  },
  {
   "cell_type": "code",
   "execution_count": 3,
   "id": "03f7fcae-4faf-4334-937f-68c615f0d950",
   "metadata": {},
   "outputs": [],
   "source": [
    "\n",
    "def analog_signal(times: np.ndarray) -> np.ndarray:\n",
    "    \"\"\"\n",
    "    Given an array of times, returns the value of an analog signal at those times.\n",
    "    \"\"\"\n",
    "    return 1 / (1 + np.exp(-10 * (times - 1)))\n"
   ]
  },
  {
   "cell_type": "code",
   "execution_count": 5,
   "id": "77ec2664-5cf1-4171-a840-60b5bc53bb19",
   "metadata": {},
   "outputs": [],
   "source": [
    "def temporal_sampler_librosa(signal: np.ndarray, orig_sr: int, target_sr: int) -> np.ndarray:\n",
    "    \"\"\"\n",
    "    Uses librosa to resample an audio signal.\n",
    "    \"\"\"\n",
    "    return librosa.resample(signal, orig_sr=orig_sr, target_sr=target_sr)\n"
   ]
  },
  {
   "cell_type": "code",
   "execution_count": 7,
   "id": "646fc7c0-d964-4f37-b07d-e421aba7d7f8",
   "metadata": {},
   "outputs": [],
   "source": [
    "\n",
    "def quantize(samples: np.ndarray, bit_depth: int) -> np.ndarray:\n",
    "    \"\"\"\n",
    "    Given an array of samples and a bit-depth, return the array of quantized samples.\n",
    "    \"\"\"\n",
    "    assert bit_depth <= 14, \"Exceeding this bit-depth might tank your computer!\"\n",
    "    quantized_values = np.linspace(samples.min(), samples.max(), 2 ** bit_depth)\n",
    "    abs_differences = np.abs(samples[:, np.newaxis] - quantized_values)\n",
    "    bin_lookup = np.argmin(abs_differences, axis=1)\n",
    "    return quantized_values[bin_lookup]\n"
   ]
  },
  {
   "cell_type": "code",
   "execution_count": 9,
   "id": "46d96763-7ddb-4440-bca3-b302f52a33c0",
   "metadata": {},
   "outputs": [],
   "source": [
    "def analog_to_digital_librosa(\n",
    "    signal: np.ndarray,\n",
    "    orig_sr: int,\n",
    "    target_sr: int,\n",
    "    bit_depth: int\n",
    ") -> Tuple[np.ndarray, np.ndarray]:\n",
    "    \"\"\"\n",
    "    Digitizes a given audio signal using librosa for resampling.\n",
    "    \"\"\"\n",
    "    resampled_signal = temporal_sampler_librosa(signal, orig_sr, target_sr)\n",
    "    digital_signal = quantize(resampled_signal, bit_depth)\n",
    "    times = np.linspace(0, len(signal) / orig_sr, len(digital_signal))\n",
    "    return times, digital_signal"
   ]
  },
  {
   "cell_type": "code",
   "execution_count": null,
   "id": "b26a58cd-f0e5-4c71-9a3a-d524d8d20b1b",
   "metadata": {},
   "outputs": [],
   "source": []
  }
 ],
 "metadata": {
  "kernelspec": {
   "display_name": "Python 3 (ipykernel)",
   "language": "python",
   "name": "python3"
  },
  "language_info": {
   "codemirror_mode": {
    "name": "ipython",
    "version": 3
   },
   "file_extension": ".py",
   "mimetype": "text/x-python",
   "name": "python",
   "nbconvert_exporter": "python",
   "pygments_lexer": "ipython3",
   "version": "3.12.4"
  }
 },
 "nbformat": 4,
 "nbformat_minor": 5
}
