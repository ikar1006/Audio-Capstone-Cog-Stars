{
 "cells": [
  {
   "cell_type": "code",
   "execution_count": 44,
   "id": "b731dfe5-b906-4795-9190-608d6fd107ab",
   "metadata": {},
   "outputs": [],
   "source": [
    "import re\n",
    "from deep_translator import GoogleTranslator"
   ]
  },
  {
   "cell_type": "code",
   "execution_count": 45,
   "id": "820050cd-2732-4664-b4c3-3b8a64b6928c",
   "metadata": {},
   "outputs": [
    {
     "data": {
      "text/plain": [
       "'7 4 11 11 4 19 '"
      ]
     },
     "execution_count": 45,
     "metadata": {},
     "output_type": "execute_result"
    }
   ],
   "source": [
    "d = {} #empty dictionary\n",
    "\n",
    "alpha = 'abcdefghijklmnopqrstuvwxyz'\n",
    "\n",
    "for i in range(26):\n",
    "    d[alpha[i]] = i #assigns the key value as alphabets and corresponding index value from alpha string as the value for the key\n",
    "unique_id(title, author)"
   ]
  },
  {
   "cell_type": "code",
   "execution_count": 46,
   "id": "f5bca15d-d6da-412d-82a8-7b7932c02daf",
   "metadata": {},
   "outputs": [],
   "source": [
    "def unique_id(title, author):\n",
    "    translated_title = GoogleTranslator(target=\"en\").translate(title)\n",
    "    cleaned_title = re.sub(r\"[^a-z]\", \"\", translated_title.lower())\n",
    "    translated_author = GoogleTranslator(target=\"en\").translate(author)\n",
    "    cleaned_author = re.sub(r\"[^a-z]\", \"\", translated_author.lower())\n",
    "\n",
    "    num_title = \"\"\n",
    "    for i, letter in enumerate(cleaned_title[:3]):\n",
    "        number = d.get(letter)\n",
    "        if number is not None:\n",
    "            num_title += str(number) + \" \"  # Add number and space\n",
    "            \n",
    "    num_author = \"\"\n",
    "    for i, letter in enumerate(cleaned_author[:3]):\n",
    "        number = d.get(letter)\n",
    "        if number is not None:\n",
    "            num_author += str(number) + \" \"  # Add number and space\n",
    "            \n",
    "    num_ti_au = num_title + num_author\n",
    "    num_ti_au.strip()\n",
    "    return num_ti_au"
   ]
  },
  {
   "cell_type": "code",
   "execution_count": null,
   "id": "3f2fcc2c-502c-4be1-a5d5-b5db7db43fa1",
   "metadata": {},
   "outputs": [],
   "source": []
  }
 ],
 "metadata": {
  "kernelspec": {
   "display_name": "Python 3 (ipykernel)",
   "language": "python",
   "name": "python3"
  },
  "language_info": {
   "codemirror_mode": {
    "name": "ipython",
    "version": 3
   },
   "file_extension": ".py",
   "mimetype": "text/x-python",
   "name": "python",
   "nbconvert_exporter": "python",
   "pygments_lexer": "ipython3",
   "version": "3.8.18"
  }
 },
 "nbformat": 4,
 "nbformat_minor": 5
}
