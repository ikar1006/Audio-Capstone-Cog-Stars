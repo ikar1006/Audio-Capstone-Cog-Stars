{
 "cells": [
  {
   "cell_type": "code",
   "execution_count": 2,
   "id": "98565616",
   "metadata": {},
   "outputs": [],
   "source": [
    "from microphone import record_audio"
   ]
  },
  {
   "cell_type": "code",
   "execution_count": 2,
   "id": "36d53973",
   "metadata": {},
   "outputs": [],
   "source": [
    "import numpy as np\n",
    "import librosa\n",
    "import matplotlib.pyplot as plt\n",
    "from IPython.display import Audio\n",
    "from typing import Union, Callable, Tuple\n",
    "from pathlib import Path\n",
    "\n",
    "%matplotlib notebook"
   ]
  },
  {
   "cell_type": "code",
   "execution_count": 5,
   "id": "b9abc13c",
   "metadata": {},
   "outputs": [],
   "source": [
    "def librosa_resample(audio_file: np.ndarray, target_sr: int) -> np.ndarray:\n",
    "    \"\"\"\n",
    "    Give an audio file, an original sampling rate, and a target sampling rate, returns an array for resampled audio signal\n",
    "    \"\"\"\n",
    "    y, sr = librosa.load(audio_file, sr=target_sr)\n",
    "    return y, sr"
   ]
  },
  {
   "cell_type": "code",
   "execution_count": 6,
   "id": "7b7a14e5",
   "metadata": {},
   "outputs": [],
   "source": [
    "def quantize(samples: np.ndarray, bit_depth: int) -> np.ndarray:\n",
    "    \"\"\"\n",
    "    Given an array of samples and a bit-depth, return the array of quantized samples.\n",
    "    \"\"\"\n",
    "    assert bit_depth <= 14, \"Exceeding this bit-depth might tank your computer!\"\n",
    "    quantized_values = np.linspace(samples.min(), samples.max(), 2 ** bit_depth)\n",
    "    abs_differences = np.abs(samples[:, np.newaxis] - quantized_values)\n",
    "    bin_lookup = np.argmin(abs_differences, axis=1)\n",
    "    return quantized_values[bin_lookup]"
   ]
  },
  {
   "cell_type": "code",
   "execution_count": 7,
   "id": "3e23d1e8",
   "metadata": {},
   "outputs": [],
   "source": [
    "def analog_to_digital_librosa(\n",
    "    signal: np.ndarray,\n",
    "    orig_sr: int,\n",
    "    target_sr: int,\n",
    "    bit_depth: int\n",
    ") -> Tuple[np.ndarray, np.ndarray]:\n",
    "    \"\"\"\n",
    "    Digitizes a given audio signal using librosa for resampling.\n",
    "    \"\"\"\n",
    "    resampled_signal = temporal_sampler_librosa(signal, orig_sr, target_sr)\n",
    "    digital_signal = quantize(resampled_signal, bit_depth)\n",
    "    times = np.linspace(0, len(signal) / orig_sr, len(digital_signal))\n",
    "    return times, digital_signal"
   ]
  },
  {
   "cell_type": "code",
   "execution_count": null,
   "id": "87b0b43f",
   "metadata": {},
   "outputs": [],
   "source": []
  }
 ],
 "metadata": {
  "kernelspec": {
   "display_name": "Python 3 (ipykernel)",
   "language": "python",
   "name": "python3"
  },
  "language_info": {
   "codemirror_mode": {
    "name": "ipython",
    "version": 3
   },
   "file_extension": ".py",
   "mimetype": "text/x-python",
   "name": "python",
   "nbconvert_exporter": "python",
   "pygments_lexer": "ipython3",
   "version": "3.8.19"
  }
 },
 "nbformat": 4,
 "nbformat_minor": 5
}
